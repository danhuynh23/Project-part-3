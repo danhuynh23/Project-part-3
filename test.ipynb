{
 "cells": [
  {
   "cell_type": "code",
   "execution_count": 1,
   "metadata": {},
   "outputs": [
    {
     "data": {
      "text/plain": [
       "'flask_route_diagram.png'"
      ]
     },
     "execution_count": 1,
     "metadata": {},
     "output_type": "execute_result"
    }
   ],
   "source": [
    "from graphviz import Digraph\n",
    "\n",
    "# Initialize Graphviz Digraph\n",
    "dot = Digraph(comment='Flask Route Diagram', format='png')\n",
    "\n",
    "# Add nodes for routes\n",
    "routes = [\n",
    "    ('home', 'Home Page (/home)'),\n",
    "    ('login', 'Login Page (/login)'),\n",
    "    ('logout', 'Logout (/logout)'),\n",
    "    ('signup', 'Signup Page (/signup)'),\n",
    "    ('dashboard', 'Dashboard (/dashboard)'),\n",
    "    ('manage_flights', 'Manage Flights (/manage_flights)'),\n",
    "    ('view_flights', 'View Flights (/view_flights)'),\n",
    "    ('track_spending', 'Track Spending (/track_spending)'),\n",
    "    ('create_flight', 'Create Flight (/create_flight)'),\n",
    "    ('grant_permissions', 'Grant Permissions (/grant_permissions)'),\n",
    "    ('update_booking_agent_airline', 'Update Booking Agent Airline (/update_booking_agent_airline)'),\n",
    "    ('view_commission', 'View Commission (/view_commission)'),\n",
    "    ('view_top_customers', 'View Top Customers (/view_top_customers)')\n",
    "]\n",
    "\n",
    "for route, label in routes:\n",
    "    dot.node(route, label)\n",
    "\n",
    "# Define connections\n",
    "connections = [\n",
    "    ('home', 'login'),\n",
    "    ('login', 'dashboard'),\n",
    "    ('dashboard', 'logout'),\n",
    "    ('dashboard', 'manage_flights'),\n",
    "    ('dashboard', 'view_flights'),\n",
    "    ('dashboard', 'track_spending'),\n",
    "    ('dashboard', 'create_flight'),\n",
    "    ('dashboard', 'grant_permissions'),\n",
    "    ('grant_permissions', 'update_booking_agent_airline'),\n",
    "    ('dashboard', 'view_commission'),\n",
    "    ('dashboard', 'view_top_customers'),\n",
    "]\n",
    "\n",
    "for src, dest in connections:\n",
    "    dot.edge(src, dest)\n",
    "\n",
    "# Render the diagram\n",
    "dot.render('flask_route_diagram', view=True)\n"
   ]
  }
 ],
 "metadata": {
  "kernelspec": {
   "display_name": "Yolo",
   "language": "python",
   "name": "python3"
  },
  "language_info": {
   "codemirror_mode": {
    "name": "ipython",
    "version": 3
   },
   "file_extension": ".py",
   "mimetype": "text/x-python",
   "name": "python",
   "nbconvert_exporter": "python",
   "pygments_lexer": "ipython3",
   "version": "3.11.9"
  }
 },
 "nbformat": 4,
 "nbformat_minor": 2
}
